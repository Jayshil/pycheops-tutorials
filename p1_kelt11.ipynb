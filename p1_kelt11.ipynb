{
 "cells": [
  {
   "cell_type": "markdown",
   "metadata": {},
   "source": [
    "# Understanding `pycheops` using data of KELT-11\n",
    "\n",
    "In the following notebook, we will play with CHEOPS data of KELT-11 data with an intention to understand various functionalities of `pycheops`."
   ]
  },
  {
   "cell_type": "code",
   "execution_count": null,
   "metadata": {},
   "outputs": [],
   "source": [
    "import numpy as np\n",
    "import matplotlib.pyplot as plt\n",
    "import "
   ]
  }
 ],
 "metadata": {
  "interpreter": {
   "hash": "98656aa1b2634079f577e60edca7f30b1f5a1cc6a5ea06e52fddb5d397aa98e9"
  },
  "kernelspec": {
   "display_name": "Python 3.8.12 64-bit ('base': conda)",
   "name": "python3"
  },
  "language_info": {
   "name": "python",
   "version": "3.8.12"
  },
  "orig_nbformat": 4
 },
 "nbformat": 4,
 "nbformat_minor": 2
}
